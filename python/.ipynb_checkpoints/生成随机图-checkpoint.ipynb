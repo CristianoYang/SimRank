{
 "cells": [
  {
   "cell_type": "markdown",
   "metadata": {},
   "source": [
    "## 生成随机图"
   ]
  },
  {
   "cell_type": "code",
   "execution_count": 1,
   "metadata": {},
   "outputs": [],
   "source": [
    "import numpy as np\n",
    "import time"
   ]
  },
  {
   "cell_type": "code",
   "execution_count": 2,
   "metadata": {},
   "outputs": [],
   "source": [
    "#生成随机有向图图\n",
    "#两个参数，节点个数，边的比例（稀疏矩阵默认0.3）\n",
    "def getRandomDirectedGraph(vertex, ratio = 0.3):\n",
    "    #n方的0矩阵\n",
    "    graph = np.matrix(np.zeros([vertex, vertex]))\n",
    "    \n",
    "    #随机添加边\n",
    "    #稀疏矩阵，1的数量占不超过30%\n",
    "    #且边取整数\n",
    "    edge_num = int(ratio * pow(vertex, 2))\n",
    "    \n",
    "    while edge_num > 0:\n",
    "        row = np.random.choice(vertex)\n",
    "        col = np.random.choice(vertex)\n",
    "        graph[row, col] = 1\n",
    "        edge_num -= 1\n",
    "        \n",
    "    #节点不能自连，故对角不能为1\n",
    "    Z = np.matrix(np.zeros([vertex, vertex]))\n",
    "    graph = graph + Z - np.diag(np.diag(graph))\n",
    "    \n",
    "    return graph"
   ]
  },
  {
   "cell_type": "code",
   "execution_count": 3,
   "metadata": {},
   "outputs": [],
   "source": [
    "#生成随机无向图图\n",
    "#两个参数，节点个数，边的比例（稀疏矩阵默认0.3）\n",
    "def getRandomUndirectedGraph(vertex, ratio = 0.3):\n",
    "    #n方的0矩阵\n",
    "    graph = np.matrix(np.zeros([vertex, vertex]))\n",
    "    \n",
    "    #随机添加边\n",
    "    #稀疏矩阵，1的数量占不超过30%\n",
    "    #且边取整数\n",
    "    edge_num = int(ratio * pow(vertex, 2))\n",
    "    \n",
    "    while edge_num > 0:\n",
    "        row = np.random.choice(vertex)\n",
    "        col = np.random.choice(vertex)\n",
    "        graph[row, col] = 1\n",
    "        graph[col, row] = 1\n",
    "        edge_num -= 2\n",
    "        \n",
    "    #节点不能自连，故对角不能为1\n",
    "    Z = np.matrix(np.zeros([vertex, vertex]))\n",
    "    graph = graph + Z - np.diag(np.diag(graph))\n",
    "    \n",
    "    return graph"
   ]
  },
  {
   "cell_type": "markdown",
   "metadata": {},
   "source": [
    "## 利用生成的随机图测试三种算法"
   ]
  },
  {
   "cell_type": "code",
   "execution_count": 4,
   "metadata": {},
   "outputs": [
    {
     "data": {
      "text/plain": [
       "matrix([[0., 0., 0., 1., 1.],\n",
       "        [0., 0., 0., 0., 0.],\n",
       "        [0., 0., 0., 1., 1.],\n",
       "        [1., 0., 0., 0., 0.],\n",
       "        [1., 0., 0., 0., 0.]])"
      ]
     },
     "execution_count": 4,
     "metadata": {},
     "output_type": "execute_result"
    }
   ],
   "source": [
    "vertex = 5\n",
    "graph = getRandomDirectedGraph(vertex)\n",
    "graph"
   ]
  },
  {
   "cell_type": "markdown",
   "metadata": {},
   "source": [
    "### 1. 矩阵simrank"
   ]
  },
  {
   "cell_type": "code",
   "execution_count": 5,
   "metadata": {},
   "outputs": [],
   "source": [
    "from algorithms import matrix_simrank"
   ]
  },
  {
   "cell_type": "code",
   "execution_count": 6,
   "metadata": {},
   "outputs": [
    {
     "name": "stdout",
     "output_type": "stream",
     "text": [
      "运行时间： 0.0\n"
     ]
    },
    {
     "data": {
      "text/plain": [
       "matrix([[1. , 0. , 0. , 0. , 0. ],\n",
       "        [0. , 1. , 0. , 0. , 0. ],\n",
       "        [0. , 0. , 1. , 0. , 0. ],\n",
       "        [0. , 0. , 0. , 1. , 0.4],\n",
       "        [0. , 0. , 0. , 0.4, 1. ]])"
      ]
     },
     "execution_count": 6,
     "metadata": {},
     "output_type": "execute_result"
    }
   ],
   "source": [
    "matrix_simrank.simrank(graph, vertex)"
   ]
  },
  {
   "cell_type": "markdown",
   "metadata": {},
   "source": [
    "### 2. 原生迭代simrank"
   ]
  },
  {
   "cell_type": "code",
   "execution_count": null,
   "metadata": {},
   "outputs": [],
   "source": []
  }
 ],
 "metadata": {
  "kernelspec": {
   "display_name": "Python 3",
   "language": "python",
   "name": "python3"
  },
  "language_info": {
   "codemirror_mode": {
    "name": "ipython",
    "version": 3
   },
   "file_extension": ".py",
   "mimetype": "text/x-python",
   "name": "python",
   "nbconvert_exporter": "python",
   "pygments_lexer": "ipython3",
   "version": "3.7.3"
  }
 },
 "nbformat": 4,
 "nbformat_minor": 2
}
