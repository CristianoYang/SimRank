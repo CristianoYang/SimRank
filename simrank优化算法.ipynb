{
 "cells": [
  {
   "cell_type": "markdown",
   "metadata": {},
   "source": [
    "# simrank优化算法"
   ]
  },
  {
   "cell_type": "code",
   "execution_count": 1,
   "metadata": {},
   "outputs": [],
   "source": [
    "import numpy as np\n",
    "import time"
   ]
  },
  {
   "cell_type": "markdown",
   "metadata": {},
   "source": [
    "## 数据预处理"
   ]
  },
  {
   "cell_type": "code",
   "execution_count": 2,
   "metadata": {},
   "outputs": [],
   "source": [
    "def getGraph(edge_num):\n",
    "    with open('test/web-Stanford.txt') as log_fp:\n",
    "        logs = []\n",
    "        for i in range(edge_num):\n",
    "            log = log_fp.readline()\n",
    "            logs.append(log.strip())    #strip是去掉空格和换行\n",
    "    \n",
    "    #from to元祖\n",
    "    logs_tuple = [ tuple(log.split('\\t')) for log in logs ]\n",
    "    \n",
    "    #获取from集合和to集合\n",
    "    from_ = list(set([ log[0] for log in logs_tuple ]))\n",
    "    to_ = list(set( [log[1] for log in logs_tuple ]))\n",
    "    \n",
    "    #顶点集合\n",
    "    vertex = list(set(from_ + to_))\n",
    "    \n",
    "    #图结构邻接矩阵表示\n",
    "    #图的所有节点都放进去\n",
    "    #即A矩阵\n",
    "    graph = np.matrix(np.zeros([len(vertex), len(vertex)]))\n",
    "\n",
    "    #给图邻接矩阵添加边\n",
    "    #有向图，非对称\n",
    "    for log in logs_tuple:\n",
    "        i = vertex.index(log[0])\n",
    "        j = vertex.index(log[1])\n",
    "        graph[i, j] = 1   #行为出度，列为入度\n",
    "        \n",
    "    return graph, vertex"
   ]
  },
  {
   "cell_type": "markdown",
   "metadata": {},
   "source": [
    "## simrank"
   ]
  },
  {
   "cell_type": "code",
   "execution_count": 3,
   "metadata": {},
   "outputs": [],
   "source": [
    "graph, vertex = getGraph(200)"
   ]
  },
  {
   "cell_type": "code",
   "execution_count": 4,
   "metadata": {},
   "outputs": [
    {
     "name": "stdout",
     "output_type": "stream",
     "text": [
      "173\n"
     ]
    },
    {
     "data": {
      "text/plain": [
       "matrix([[0., 0., 0., ..., 0., 0., 0.],\n",
       "        [0., 0., 0., ..., 0., 0., 0.],\n",
       "        [0., 0., 0., ..., 0., 0., 0.],\n",
       "        ...,\n",
       "        [0., 0., 0., ..., 0., 0., 0.],\n",
       "        [0., 0., 0., ..., 0., 0., 0.],\n",
       "        [0., 0., 0., ..., 0., 0., 0.]])"
      ]
     },
     "execution_count": 4,
     "metadata": {},
     "output_type": "execute_result"
    }
   ],
   "source": [
    "print(len(vertex))\n",
    "graph"
   ]
  },
  {
   "cell_type": "code",
   "execution_count": 10,
   "metadata": {},
   "outputs": [
    {
     "data": {
      "text/plain": [
       "matrix([[1., 0., 0., ..., 0., 0., 0.],\n",
       "        [0., 1., 0., ..., 0., 0., 0.],\n",
       "        [0., 0., 1., ..., 0., 0., 0.],\n",
       "        ...,\n",
       "        [0., 0., 0., ..., 1., 0., 0.],\n",
       "        [0., 0., 0., ..., 0., 1., 0.],\n",
       "        [0., 0., 0., ..., 0., 0., 1.]])"
      ]
     },
     "execution_count": 10,
     "metadata": {},
     "output_type": "execute_result"
    }
   ],
   "source": [
    "#初始化相似度迭代矩阵\n",
    "sim_mat = np.matrix(np.identity(len(vertex)))\n",
    "sim_mat"
   ]
  },
  {
   "cell_type": "code",
   "execution_count": 6,
   "metadata": {},
   "outputs": [],
   "source": [
    "#计算出度和\n",
    "def getOutgoingSum(a):\n",
    "    return graph[a].sum()\n",
    "\n",
    "#计算入度和\n",
    "def getInputSum(a):\n",
    "    return graph[:, a].sum()\n",
    "\n",
    "#获取a的入度节点\n",
    "def getInputNode(a):\n",
    "    index = []\n",
    "    mat_col = graph[:, a]\n",
    "    for j in range(len(vertex)):\n",
    "        if mat_col[j] != 0:\n",
    "            index.append(j)\n",
    "    return index\n",
    "\n",
    "#获取a的出度节点\n",
    "def getOutgoingNode(a):\n",
    "    index = []\n",
    "    for i in range(len(vertex)):\n",
    "        if graph[a, i] != 0:\n",
    "            index.append(i)\n",
    "    return index"
   ]
  },
  {
   "cell_type": "code",
   "execution_count": 7,
   "metadata": {},
   "outputs": [],
   "source": [
    "#计算δ函数\n",
    "def getDerList(C, K, Der):\n",
    "    der = []\n",
    "    for i in range(K):\n",
    "        der.append(Der / (K * pow(C, K-i-1))) #计算公式\n",
    "    return der\n",
    "\n",
    "#计算a节点的入度部分和\n",
    "#就是相似度\n",
    "def getPartial(a):\n",
    "    partial = []\n",
    "    #先获取a节点的入度下标\n",
    "    index = getInputNode(a)\n",
    "            \n",
    "    #计算partial_a(i)        \n",
    "    for i in range(len(vertex)):\n",
    "        if len(index) == 0:\n",
    "            partial.append(0)\n",
    "        else:\n",
    "            result = 0\n",
    "            for x in index:\n",
    "                result = result + sim_mat[x, i]\n",
    "            partial.append(result)\n",
    "    return partial\n",
    "\n",
    "#计算a的基本节点对\n",
    "def getEssential(a):\n",
    "    b_list = set()\n",
    "    #先获取a节点的入度下标\n",
    "    index = getInputNode(a)\n",
    "    \n",
    "    #获取与入度相似度不为0的节点\n",
    "    temp = set()\n",
    "    if len(index) != 0:\n",
    "        for x in index:\n",
    "            for i in range(len(vertex)):\n",
    "                if sim_mat[x, i] != 0:\n",
    "                    temp.add(i)\n",
    "    temp = list(temp)\n",
    "    \n",
    "    #然后获取temp节点的出度，就是基本节点对\n",
    "    if len(temp) != 0:\n",
    "        for x in temp:\n",
    "            index = getOutgoingNode(x)\n",
    "            if len(index) != 0:\n",
    "                for i in index:\n",
    "                    b_list.add(i)\n",
    "    b_list = list(b_list)\n",
    "    \n",
    "    return b_list\n",
    "\n",
    "#更新相似度矩阵\n",
    "def calculate(a, b, der, partial, C):\n",
    "    if a == b:\n",
    "        return 1\n",
    "    if getInputSum(a) == 0 or getInputSum(b) == 0:\n",
    "        return 0\n",
    "    #前缀系数\n",
    "    prefix = C / (getInputSum(a) * getInputSum(b))\n",
    "    #后缀系数\n",
    "    postfix = 0\n",
    "    index = getInputNode(b) #b的入度节点\n",
    "    if len(index) != 0:\n",
    "        for i in index:\n",
    "            postfix += partial[i]\n",
    "    result = prefix * postfix\n",
    "    #看看result是否大于阈值\n",
    "    if result > der or sim_mat[a, b] != 0:\n",
    "        return result\n",
    "    \n",
    "    return 0"
   ]
  },
  {
   "cell_type": "code",
   "execution_count": 8,
   "metadata": {},
   "outputs": [],
   "source": [
    "#simrank优化算法\n",
    "#三个参数，C是衰败因子，K是迭代次数，Der是阈值误差\n",
    "def simrank(C, K, Der):\n",
    "    global sim_mat\n",
    "    #通过Der计算δ参数，返回数组\n",
    "    der = getDerList(C, K, Der)\n",
    "    \n",
    "    start = time.process_time()\n",
    "    #迭代次数\n",
    "    for k in range(K):\n",
    "        #中间相似度矩阵\n",
    "        new_note_sim = np.matrix(np.identity(len(vertex)))\n",
    "        \n",
    "        #遍历每一个节点a\n",
    "        for a in range(len(vertex)):\n",
    "            #如果该节点出度为0（即矩阵行和为0），只需要在最后一次迭代的时候计算。\n",
    "            #继续下一个a\n",
    "            if getOutgoingSum(a) == 0 and k != K-1:\n",
    "                continue\n",
    "            #计算a节点的入度部分和\n",
    "            partial = getPartial(a)\n",
    "            #计算a节点的基本节点对\n",
    "            b_list = getEssential(a)\n",
    "            #更新（a,b）的相似度\n",
    "            for b in b_list:\n",
    "                new_note_sim[a, b] = calculate(a, b, der[k], partial, C)\n",
    "                \n",
    "        #一次迭代完，更新sim_mat\n",
    "        sim_mat = new_note_sim\n",
    "    \n",
    "    end = time.process_time()\n",
    "    print(\"运行时间：\", end-start)"
   ]
  },
  {
   "cell_type": "code",
   "execution_count": 11,
   "metadata": {},
   "outputs": [
    {
     "name": "stdout",
     "output_type": "stream",
     "text": [
      "运行时间： 38.547847100000006\n"
     ]
    },
    {
     "data": {
      "text/plain": [
       "matrix([[1. , 0.8, 0. , ..., 0.8, 0. , 0. ],\n",
       "        [0.8, 1. , 0. , ..., 0.8, 0. , 0. ],\n",
       "        [0. , 0. , 1. , ..., 0. , 0. , 0. ],\n",
       "        ...,\n",
       "        [0.8, 0.8, 0. , ..., 1. , 0. , 0. ],\n",
       "        [0. , 0. , 0. , ..., 0. , 1. , 0. ],\n",
       "        [0. , 0. , 0. , ..., 0. , 0. , 1. ]])"
      ]
     },
     "execution_count": 11,
     "metadata": {},
     "output_type": "execute_result"
    }
   ],
   "source": [
    "simrank(0.8, 5, 0.05) #der取0，相当于不设阈值\n",
    "sim_mat"
   ]
  },
  {
   "cell_type": "code",
   "execution_count": null,
   "metadata": {},
   "outputs": [],
   "source": []
  }
 ],
 "metadata": {
  "kernelspec": {
   "display_name": "Python 3",
   "language": "python",
   "name": "python3"
  },
  "language_info": {
   "codemirror_mode": {
    "name": "ipython",
    "version": 3
   },
   "file_extension": ".py",
   "mimetype": "text/x-python",
   "name": "python",
   "nbconvert_exporter": "python",
   "pygments_lexer": "ipython3",
   "version": "3.7.3"
  }
 },
 "nbformat": 4,
 "nbformat_minor": 2
}
