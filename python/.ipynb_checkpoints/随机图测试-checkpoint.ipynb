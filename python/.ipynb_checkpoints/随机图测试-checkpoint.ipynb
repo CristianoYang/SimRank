{
 "cells": [
  {
   "cell_type": "markdown",
   "metadata": {},
   "source": [
    "## 生成随机图"
   ]
  },
  {
   "cell_type": "code",
   "execution_count": 1,
   "metadata": {},
   "outputs": [],
   "source": [
    "import numpy as np\n",
    "import time"
   ]
  },
  {
   "cell_type": "code",
   "execution_count": 2,
   "metadata": {},
   "outputs": [],
   "source": [
    "#生成随机有向图图\n",
    "#两个参数，节点个数，边的比例（稀疏矩阵默认0.3）\n",
    "def getRandomDirectedGraph(vertex, ratio = 0.3):\n",
    "    #n方的0矩阵\n",
    "    graph = np.matrix(np.zeros([vertex, vertex]))\n",
    "    \n",
    "    #随机添加边\n",
    "    #稀疏矩阵，1的数量占不超过30%\n",
    "    #且边取整数\n",
    "    edge_num = int(ratio * pow(vertex, 2))\n",
    "    \n",
    "    while edge_num > 0:\n",
    "        row = np.random.choice(vertex)\n",
    "        col = np.random.choice(vertex)\n",
    "        graph[row, col] = 1\n",
    "        edge_num -= 1\n",
    "        \n",
    "    #节点不能自连，故对角不能为1\n",
    "    Z = np.matrix(np.zeros([vertex, vertex]))\n",
    "    graph = graph + Z - np.diag(np.diag(graph))\n",
    "    \n",
    "    return graph"
   ]
  },
  {
   "cell_type": "code",
   "execution_count": 3,
   "metadata": {},
   "outputs": [],
   "source": [
    "#生成随机无向图图\n",
    "#两个参数，节点个数，边的比例（稀疏矩阵默认0.3）\n",
    "def getRandomUndirectedGraph(vertex, ratio = 0.3):\n",
    "    #n方的0矩阵\n",
    "    graph = np.matrix(np.zeros([vertex, vertex]))\n",
    "    \n",
    "    #随机添加边\n",
    "    #稀疏矩阵，1的数量占不超过30%\n",
    "    #且边取整数\n",
    "    edge_num = int(ratio * pow(vertex, 2))\n",
    "    \n",
    "    while edge_num > 0:\n",
    "        row = np.random.choice(vertex)\n",
    "        col = np.random.choice(vertex)\n",
    "        graph[row, col] = 1\n",
    "        graph[col, row] = 1\n",
    "        edge_num -= 2\n",
    "        \n",
    "    #节点不能自连，故对角不能为1\n",
    "    Z = np.matrix(np.zeros([vertex, vertex]))\n",
    "    graph = graph + Z - np.diag(np.diag(graph))\n",
    "    \n",
    "    return graph"
   ]
  },
  {
   "cell_type": "markdown",
   "metadata": {},
   "source": [
    "## 利用生成的随机图测试三种算法"
   ]
  },
  {
   "cell_type": "code",
   "execution_count": 11,
   "metadata": {
    "scrolled": true
   },
   "outputs": [
    {
     "data": {
      "text/plain": [
       "matrix([[0., 0., 0., ..., 0., 1., 0.],\n",
       "        [1., 0., 0., ..., 0., 0., 0.],\n",
       "        [1., 0., 0., ..., 1., 0., 0.],\n",
       "        ...,\n",
       "        [0., 1., 0., ..., 0., 0., 1.],\n",
       "        [0., 0., 0., ..., 0., 0., 1.],\n",
       "        [0., 0., 0., ..., 0., 1., 0.]])"
      ]
     },
     "execution_count": 11,
     "metadata": {},
     "output_type": "execute_result"
    }
   ],
   "source": [
    "vertex = 50\n",
    "graph = getRandomDirectedGraph(vertex)\n",
    "graph"
   ]
  },
  {
   "cell_type": "markdown",
   "metadata": {},
   "source": [
    "### 1. 原生迭代simrank"
   ]
  },
  {
   "cell_type": "code",
   "execution_count": 5,
   "metadata": {},
   "outputs": [],
   "source": [
    "from algorithms import naive_simrank"
   ]
  },
  {
   "cell_type": "code",
   "execution_count": 12,
   "metadata": {
    "scrolled": true
   },
   "outputs": [
    {
     "name": "stdout",
     "output_type": "stream",
     "text": [
      "RunTime： 59.3271803\n"
     ]
    },
    {
     "data": {
      "text/plain": [
       "matrix([[1.        , 0.05592442, 0.06785571, ..., 0.07070201, 0.05326286,\n",
       "         0.06214821],\n",
       "        [0.05592442, 1.        , 0.06828784, ..., 0.04919027, 0.04966359,\n",
       "         0.05680473],\n",
       "        [0.06785571, 0.06828784, 1.        , ..., 0.06215281, 0.05876194,\n",
       "         0.05661341],\n",
       "        ...,\n",
       "        [0.07070201, 0.04919027, 0.06215281, ..., 1.        , 0.05965517,\n",
       "         0.06938625],\n",
       "        [0.05326286, 0.04966359, 0.05876194, ..., 0.05965517, 1.        ,\n",
       "         0.06948462],\n",
       "        [0.06214821, 0.05680473, 0.05661341, ..., 0.06938625, 0.06948462,\n",
       "         1.        ]])"
      ]
     },
     "execution_count": 12,
     "metadata": {},
     "output_type": "execute_result"
    }
   ],
   "source": [
    "naive_simrank.simrank(graph, vertex)"
   ]
  },
  {
   "cell_type": "markdown",
   "metadata": {},
   "source": [
    "### 2. 优化后的simrank"
   ]
  },
  {
   "cell_type": "code",
   "execution_count": 7,
   "metadata": {},
   "outputs": [],
   "source": [
    "from algorithms import optimized_simrank"
   ]
  },
  {
   "cell_type": "code",
   "execution_count": 13,
   "metadata": {
    "scrolled": true
   },
   "outputs": [
    {
     "name": "stdout",
     "output_type": "stream",
     "text": [
      "RunTime： 7.5972487000000015\n"
     ]
    },
    {
     "data": {
      "text/plain": [
       "matrix([[1.        , 0.05428923, 0.06624258, ..., 0.06906243, 0.05117532,\n",
       "         0.06049741],\n",
       "        [0.05428923, 1.        , 0.06678515, ..., 0.04755281, 0.04816386,\n",
       "         0.05525147],\n",
       "        [0.06624258, 0.06678515, 1.        , ..., 0.06006709, 0.05725294,\n",
       "         0.05504374],\n",
       "        ...,\n",
       "        [0.06906243, 0.04755281, 0.06006709, ..., 1.        , 0.05858728,\n",
       "         0.0683291 ],\n",
       "        [0.05117532, 0.04816386, 0.05725294, ..., 0.05858728, 1.        ,\n",
       "         0.0684404 ],\n",
       "        [0.06049741, 0.05525147, 0.05504374, ..., 0.0683291 , 0.0684404 ,\n",
       "         1.        ]])"
      ]
     },
     "execution_count": 13,
     "metadata": {},
     "output_type": "execute_result"
    }
   ],
   "source": [
    "optimize_simrank.simrank(graph, vertex)"
   ]
  },
  {
   "cell_type": "markdown",
   "metadata": {},
   "source": [
    "### 3. 矩阵simrank"
   ]
  },
  {
   "cell_type": "code",
   "execution_count": 9,
   "metadata": {},
   "outputs": [],
   "source": [
    "from algorithms import matrix_simrank"
   ]
  },
  {
   "cell_type": "code",
   "execution_count": 14,
   "metadata": {
    "scrolled": true
   },
   "outputs": [
    {
     "name": "stdout",
     "output_type": "stream",
     "text": [
      "RunTime： 0.0780005000000017\n"
     ]
    },
    {
     "data": {
      "text/plain": [
       "matrix([[1.        , 0.05553832, 0.06756467, ..., 0.07064813, 0.05274089,\n",
       "         0.0619555 ],\n",
       "        [0.05553832, 1.        , 0.06722779, ..., 0.04847526, 0.04837576,\n",
       "         0.05593732],\n",
       "        [0.06756467, 0.06722779, 1.        , ..., 0.06108324, 0.05757602,\n",
       "         0.05579385],\n",
       "        ...,\n",
       "        [0.07064813, 0.04847526, 0.06108324, ..., 1.        , 0.05544211,\n",
       "         0.06519584],\n",
       "        [0.05274089, 0.04837576, 0.05757602, ..., 0.05544211, 1.        ,\n",
       "         0.06518229],\n",
       "        [0.0619555 , 0.05593732, 0.05579385, ..., 0.06519584, 0.06518229,\n",
       "         1.        ]])"
      ]
     },
     "execution_count": 14,
     "metadata": {},
     "output_type": "execute_result"
    }
   ],
   "source": [
    "matrix_simrank.simrank(graph, vertex)"
   ]
  },
  {
   "cell_type": "code",
   "execution_count": null,
   "metadata": {},
   "outputs": [],
   "source": []
  }
 ],
 "metadata": {
  "kernelspec": {
   "display_name": "Python 3",
   "language": "python",
   "name": "python3"
  },
  "language_info": {
   "codemirror_mode": {
    "name": "ipython",
    "version": 3
   },
   "file_extension": ".py",
   "mimetype": "text/x-python",
   "name": "python",
   "nbconvert_exporter": "python",
   "pygments_lexer": "ipython3",
   "version": "3.7.3"
  }
 },
 "nbformat": 4,
 "nbformat_minor": 2
}
