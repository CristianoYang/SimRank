{
 "cells": [
  {
   "cell_type": "markdown",
   "metadata": {},
   "source": [
    "# simrank原生迭代算法"
   ]
  },
  {
   "cell_type": "code",
   "execution_count": 1,
   "metadata": {},
   "outputs": [],
   "source": [
    "import numpy as np\n",
    "import time"
   ]
  },
  {
   "cell_type": "markdown",
   "metadata": {},
   "source": [
    "## 数据预处理"
   ]
  },
  {
   "cell_type": "code",
   "execution_count": 2,
   "metadata": {},
   "outputs": [],
   "source": [
    "def getGraph(edge_num):\n",
    "    with open('test/web-Stanford.txt') as log_fp:\n",
    "        logs = []\n",
    "        for i in range(edge_num):\n",
    "            log = log_fp.readline()\n",
    "            logs.append(log.strip())    #strip是去掉空格和换行\n",
    "    \n",
    "    #from to元祖\n",
    "    logs_tuple = [ tuple(log.split('\\t')) for log in logs ]\n",
    "    \n",
    "    #获取from集合和to集合\n",
    "    from_ = list(set([ log[0] for log in logs_tuple ]))\n",
    "    to_ = list(set( [log[1] for log in logs_tuple ]))\n",
    "    \n",
    "    #顶点集合\n",
    "    vertex = list(set(from_ + to_))\n",
    "    \n",
    "    #图结构邻接矩阵表示\n",
    "    #图的所有节点都放进去\n",
    "    #即A矩阵\n",
    "    graph = np.matrix(np.zeros([len(vertex), len(vertex)]))\n",
    "\n",
    "    #给图邻接矩阵添加边\n",
    "    #有向图，非对称\n",
    "    for log in logs_tuple:\n",
    "        i = vertex.index(log[0])\n",
    "        j = vertex.index(log[1])\n",
    "        graph[i, j] = 1   #行为出度，列为入度\n",
    "        \n",
    "    return graph, vertex"
   ]
  },
  {
   "cell_type": "markdown",
   "metadata": {},
   "source": [
    "## simrank"
   ]
  },
  {
   "cell_type": "code",
   "execution_count": 46,
   "metadata": {},
   "outputs": [],
   "source": [
    "graph, vertex = getGraph(200)"
   ]
  },
  {
   "cell_type": "code",
   "execution_count": 47,
   "metadata": {},
   "outputs": [
    {
     "name": "stdout",
     "output_type": "stream",
     "text": [
      "173\n"
     ]
    },
    {
     "data": {
      "text/plain": [
       "matrix([[0., 0., 0., ..., 0., 0., 0.],\n",
       "        [0., 0., 0., ..., 0., 0., 0.],\n",
       "        [0., 0., 0., ..., 0., 0., 0.],\n",
       "        ...,\n",
       "        [0., 0., 0., ..., 0., 0., 0.],\n",
       "        [0., 0., 0., ..., 0., 0., 0.],\n",
       "        [0., 0., 0., ..., 0., 0., 0.]])"
      ]
     },
     "execution_count": 47,
     "metadata": {},
     "output_type": "execute_result"
    }
   ],
   "source": [
    "print(len(vertex))\n",
    "graph"
   ]
  },
  {
   "cell_type": "code",
   "execution_count": 48,
   "metadata": {},
   "outputs": [
    {
     "data": {
      "text/plain": [
       "matrix([[1., 0., 0., ..., 0., 0., 0.],\n",
       "        [0., 1., 0., ..., 0., 0., 0.],\n",
       "        [0., 0., 1., ..., 0., 0., 0.],\n",
       "        ...,\n",
       "        [0., 0., 0., ..., 1., 0., 0.],\n",
       "        [0., 0., 0., ..., 0., 1., 0.],\n",
       "        [0., 0., 0., ..., 0., 0., 1.]])"
      ]
     },
     "execution_count": 48,
     "metadata": {},
     "output_type": "execute_result"
    }
   ],
   "source": [
    "#初始化相似度迭代矩阵\n",
    "sim_mat = np.matrix(np.identity(len(vertex)))\n",
    "sim_mat"
   ]
  },
  {
   "cell_type": "code",
   "execution_count": 18,
   "metadata": {},
   "outputs": [],
   "source": [
    "#计算出度和\n",
    "def getOutgoingSum(a):\n",
    "    return graph[a].sum()\n",
    "\n",
    "#计算入度和\n",
    "def getInputSum(a):\n",
    "    return graph[:, a].sum()\n",
    "\n",
    "#获取a的入度节点\n",
    "def getInputNode(a):\n",
    "    index = []\n",
    "    mat_col = graph[:, a]\n",
    "    for j in range(len(vertex)):\n",
    "        if mat_col[j] != 0:\n",
    "            index.append(j)\n",
    "    return index\n",
    "\n",
    "#获取a的出度节点\n",
    "def getOutgoingNode(a):\n",
    "    index = []\n",
    "    for i in range(len(vertex)):\n",
    "        if graph[a, i] != 0:\n",
    "            index.append(i)\n",
    "    return index"
   ]
  },
  {
   "cell_type": "code",
   "execution_count": 8,
   "metadata": {},
   "outputs": [],
   "source": [
    "# 两个节点相似度计算\n",
    "def note_sim(a, b, C):\n",
    "    if a == b:\n",
    "        return 1\n",
    "    Ia = getInputSum(a)\n",
    "    Ib = getInputSum(b)\n",
    "    if Ia == 0 or Ib == 0:\n",
    "        return 0\n",
    "    prefix = C / (Ia * Ib)\n",
    "    postfix = 0\n",
    "    for ai in getInputNode(a):\n",
    "        for bj in getInputNode(b):\n",
    "            postfix += sim_mat[ai, bj]\n",
    "    return prefix * postfix"
   ]
  },
  {
   "cell_type": "code",
   "execution_count": 16,
   "metadata": {},
   "outputs": [],
   "source": [
    "# simrank算法\n",
    "def simrank(C = 0.8, times = 5):\n",
    "    global sim_mat\n",
    "    \n",
    "    start = time.process_time()\n",
    "    for run in range(times):\n",
    "        new_note_sim = np.matrix(np.identity(len(vertex)))\n",
    "        for ai in range(len(vertex)):\n",
    "            for bj in range(len(vertex)):\n",
    "                new_note_sim[ai, bj] = note_sim(ai, bj, C)\n",
    "        sim_mat = new_note_sim\n",
    "    end = time.process_time()\n",
    "    print(end-start)"
   ]
  },
  {
   "cell_type": "code",
   "execution_count": null,
   "metadata": {},
   "outputs": [],
   "source": [
    "simrank()\n",
    "sim_mat"
   ]
  },
  {
   "cell_type": "code",
   "execution_count": null,
   "metadata": {},
   "outputs": [],
   "source": []
  }
 ],
 "metadata": {
  "kernelspec": {
   "display_name": "Python 3",
   "language": "python",
   "name": "python3"
  },
  "language_info": {
   "codemirror_mode": {
    "name": "ipython",
    "version": 3
   },
   "file_extension": ".py",
   "mimetype": "text/x-python",
   "name": "python",
   "nbconvert_exporter": "python",
   "pygments_lexer": "ipython3",
   "version": "3.7.3"
  }
 },
 "nbformat": 4,
 "nbformat_minor": 2
}
