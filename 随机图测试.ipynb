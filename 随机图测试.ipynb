{
 "cells": [
  {
   "cell_type": "markdown",
   "metadata": {},
   "source": [
    "## 生成随机图"
   ]
  },
  {
   "cell_type": "code",
   "execution_count": 1,
   "metadata": {},
   "outputs": [],
   "source": [
    "import numpy as np\n",
    "import time"
   ]
  },
  {
   "cell_type": "code",
   "execution_count": 2,
   "metadata": {},
   "outputs": [],
   "source": [
    "#生成随机有向图图\n",
    "#两个参数，节点个数，边的比例（稀疏矩阵默认0.3）\n",
    "def getRandomDirectedGraph(vertex, ratio = 0.3):\n",
    "    #n方的0矩阵\n",
    "    graph = np.matrix(np.zeros([vertex, vertex]))\n",
    "    \n",
    "    #随机添加边\n",
    "    #稀疏矩阵，1的数量占不超过30%\n",
    "    #且边取整数\n",
    "    edge_num = int(ratio * pow(vertex, 2))\n",
    "    \n",
    "    while edge_num > 0:\n",
    "        row = np.random.choice(vertex)\n",
    "        col = np.random.choice(vertex)\n",
    "        graph[row, col] = 1\n",
    "        edge_num -= 1\n",
    "        \n",
    "    #节点不能自连，故对角不能为1\n",
    "    Z = np.matrix(np.zeros([vertex, vertex]))\n",
    "    graph = graph + Z - np.diag(np.diag(graph))\n",
    "    \n",
    "    return graph"
   ]
  },
  {
   "cell_type": "code",
   "execution_count": 3,
   "metadata": {},
   "outputs": [],
   "source": [
    "#生成随机无向图图\n",
    "#两个参数，节点个数，边的比例（稀疏矩阵默认0.3）\n",
    "def getRandomUndirectedGraph(vertex, ratio = 0.3):\n",
    "    #n方的0矩阵\n",
    "    graph = np.matrix(np.zeros([vertex, vertex]))\n",
    "    \n",
    "    #随机添加边\n",
    "    #稀疏矩阵，1的数量占不超过30%\n",
    "    #且边取整数\n",
    "    edge_num = int(ratio * pow(vertex, 2))\n",
    "    \n",
    "    while edge_num > 0:\n",
    "        row = np.random.choice(vertex)\n",
    "        col = np.random.choice(vertex)\n",
    "        graph[row, col] = 1\n",
    "        graph[col, row] = 1\n",
    "        edge_num -= 2\n",
    "        \n",
    "    #节点不能自连，故对角不能为1\n",
    "    Z = np.matrix(np.zeros([vertex, vertex]))\n",
    "    graph = graph + Z - np.diag(np.diag(graph))\n",
    "    \n",
    "    return graph"
   ]
  },
  {
   "cell_type": "markdown",
   "metadata": {},
   "source": [
    "## 利用生成的随机图测试三种算法"
   ]
  },
  {
   "cell_type": "code",
   "execution_count": 32,
   "metadata": {
    "scrolled": true
   },
   "outputs": [
    {
     "data": {
      "text/plain": [
       "matrix([[0., 1., 0., ..., 0., 0., 0.],\n",
       "        [1., 0., 0., ..., 0., 1., 0.],\n",
       "        [0., 0., 0., ..., 0., 0., 0.],\n",
       "        ...,\n",
       "        [0., 0., 0., ..., 0., 0., 1.],\n",
       "        [0., 0., 0., ..., 0., 0., 1.],\n",
       "        [1., 1., 0., ..., 0., 0., 0.]])"
      ]
     },
     "execution_count": 32,
     "metadata": {},
     "output_type": "execute_result"
    }
   ],
   "source": [
    "vertex = 2000\n",
    "graph = getRandomDirectedGraph(vertex)\n",
    "graph"
   ]
  },
  {
   "cell_type": "markdown",
   "metadata": {},
   "source": [
    "### 1. 原生迭代simrank"
   ]
  },
  {
   "cell_type": "code",
   "execution_count": 5,
   "metadata": {},
   "outputs": [],
   "source": [
    "from algorithms import naive_simrank"
   ]
  },
  {
   "cell_type": "code",
   "execution_count": 17,
   "metadata": {
    "scrolled": true
   },
   "outputs": [
    {
     "name": "stdout",
     "output_type": "stream",
     "text": [
      "RunTime： 123.1159892\n"
     ]
    },
    {
     "data": {
      "text/plain": [
       "matrix([[1.        , 0.04416729, 0.06787639, ..., 0.05146197, 0.04664046,\n",
       "         0.04191698],\n",
       "        [0.04416729, 1.        , 0.04698447, ..., 0.04723448, 0.0522821 ,\n",
       "         0.05917532],\n",
       "        [0.06787639, 0.04698447, 1.        , ..., 0.05271231, 0.05017836,\n",
       "         0.05339487],\n",
       "        ...,\n",
       "        [0.05146197, 0.04723448, 0.05271231, ..., 1.        , 0.05880206,\n",
       "         0.05255817],\n",
       "        [0.04664046, 0.0522821 , 0.05017836, ..., 0.05880206, 1.        ,\n",
       "         0.0535808 ],\n",
       "        [0.04191698, 0.05917532, 0.05339487, ..., 0.05255817, 0.0535808 ,\n",
       "         1.        ]])"
      ]
     },
     "execution_count": 17,
     "metadata": {},
     "output_type": "execute_result"
    }
   ],
   "source": [
    "naive_simrank.simrank(graph, vertex)"
   ]
  },
  {
   "cell_type": "markdown",
   "metadata": {},
   "source": [
    "### 2. 优化后的simrank"
   ]
  },
  {
   "cell_type": "code",
   "execution_count": 7,
   "metadata": {},
   "outputs": [],
   "source": [
    "from algorithms import optimize_simrank"
   ]
  },
  {
   "cell_type": "code",
   "execution_count": 24,
   "metadata": {
    "scrolled": true
   },
   "outputs": [
    {
     "name": "stdout",
     "output_type": "stream",
     "text": [
      "RunTime： 661.4754402000001\n"
     ]
    },
    {
     "data": {
      "text/plain": [
       "matrix([[1.        , 0.01270157, 0.01311934, ..., 0.01340536, 0.0132655 ,\n",
       "         0.01317736],\n",
       "        [0.01270157, 1.        , 0.01474516, ..., 0.01180661, 0.01208208,\n",
       "         0.01155274],\n",
       "        [0.01311934, 0.01474516, 1.        , ..., 0.01336478, 0.01268938,\n",
       "         0.01413122],\n",
       "        ...,\n",
       "        [0.01340536, 0.01180661, 0.01336478, ..., 1.        , 0.01259271,\n",
       "         0.01419013],\n",
       "        [0.0132655 , 0.01208208, 0.01268938, ..., 0.01259271, 1.        ,\n",
       "         0.01471204],\n",
       "        [0.01317736, 0.01155274, 0.01413122, ..., 0.01419013, 0.01471204,\n",
       "         1.        ]])"
      ]
     },
     "execution_count": 24,
     "metadata": {},
     "output_type": "execute_result"
    }
   ],
   "source": [
    "optimize_simrank.simrank(graph, vertex)"
   ]
  },
  {
   "cell_type": "markdown",
   "metadata": {},
   "source": [
    "### 3. 矩阵simrank"
   ]
  },
  {
   "cell_type": "code",
   "execution_count": 9,
   "metadata": {},
   "outputs": [],
   "source": [
    "from algorithms import matrix_simrank"
   ]
  },
  {
   "cell_type": "code",
   "execution_count": 33,
   "metadata": {},
   "outputs": [
    {
     "name": "stdout",
     "output_type": "stream",
     "text": [
      "RunTime： 137.9360842000001\n"
     ]
    },
    {
     "data": {
      "text/plain": [
       "matrix([[1.        , 0.00130808, 0.0013914 , ..., 0.00135374, 0.00134999,\n",
       "         0.00135456],\n",
       "        [0.00130808, 1.        , 0.00133378, ..., 0.00132234, 0.0013493 ,\n",
       "         0.0013578 ],\n",
       "        [0.0013914 , 0.00133378, 1.        , ..., 0.00137231, 0.00135023,\n",
       "         0.00134034],\n",
       "        ...,\n",
       "        [0.00135374, 0.00132234, 0.00137231, ..., 1.        , 0.00138288,\n",
       "         0.00135476],\n",
       "        [0.00134999, 0.0013493 , 0.00135023, ..., 0.00138288, 1.        ,\n",
       "         0.00137196],\n",
       "        [0.00135456, 0.0013578 , 0.00134034, ..., 0.00135476, 0.00137196,\n",
       "         1.        ]])"
      ]
     },
     "execution_count": 33,
     "metadata": {},
     "output_type": "execute_result"
    }
   ],
   "source": [
    "matrix_simrank.simrank(graph, vertex)"
   ]
  },
  {
   "cell_type": "code",
   "execution_count": null,
   "metadata": {},
   "outputs": [],
   "source": []
  }
 ],
 "metadata": {
  "kernelspec": {
   "display_name": "Python 3",
   "language": "python",
   "name": "python3"
  },
  "language_info": {
   "codemirror_mode": {
    "name": "ipython",
    "version": 3
   },
   "file_extension": ".py",
   "mimetype": "text/x-python",
   "name": "python",
   "nbconvert_exporter": "python",
   "pygments_lexer": "ipython3",
   "version": "3.7.3"
  }
 },
 "nbformat": 4,
 "nbformat_minor": 2
}
