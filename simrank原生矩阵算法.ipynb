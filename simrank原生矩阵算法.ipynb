{
 "cells": [
  {
   "cell_type": "markdown",
   "metadata": {},
   "source": [
    "# simrank原生矩阵算法"
   ]
  },
  {
   "cell_type": "code",
   "execution_count": 7,
   "metadata": {},
   "outputs": [],
   "source": [
    "import numpy as np\n",
    "import time"
   ]
  },
  {
   "cell_type": "markdown",
   "metadata": {},
   "source": [
    "## 数据预处理"
   ]
  },
  {
   "cell_type": "code",
   "execution_count": 10,
   "metadata": {},
   "outputs": [],
   "source": [
    "def getGraph(edge_num):\n",
    "    with open('test/web-Stanford.txt') as log_fp:\n",
    "        logs = []\n",
    "        for i in range(edge_num):\n",
    "            log = log_fp.readline()\n",
    "            logs.append(log.strip())    #strip是去掉空格和换行\n",
    "    \n",
    "    #from to元祖\n",
    "    logs_tuple = [ tuple(log.split('\\t')) for log in logs ]\n",
    "    \n",
    "    #获取from集合和to集合\n",
    "    from_ = list(set([ log[0] for log in logs_tuple ]))\n",
    "    to_ = list(set( [log[1] for log in logs_tuple ]))\n",
    "    \n",
    "    #顶点集合\n",
    "    vertex = list(set(from_ + to_))\n",
    "    \n",
    "    #图结构邻接矩阵表示\n",
    "    #图的所有节点都放进去\n",
    "    #即A矩阵\n",
    "    graph = np.matrix(np.zeros([len(vertex), len(vertex)]))\n",
    "\n",
    "    #给图邻接矩阵添加边\n",
    "    #有向图，非对称\n",
    "    for log in logs_tuple:\n",
    "        i = vertex.index(log[0])\n",
    "        j = vertex.index(log[1])\n",
    "        graph[i, j] = 1   #行为出度，列为入度\n",
    "        \n",
    "    return graph, vertex"
   ]
  },
  {
   "cell_type": "markdown",
   "metadata": {},
   "source": [
    "## simrank"
   ]
  },
  {
   "cell_type": "code",
   "execution_count": 11,
   "metadata": {},
   "outputs": [],
   "source": [
    "graph, vertex = getGraph(10)"
   ]
  },
  {
   "cell_type": "code",
   "execution_count": 12,
   "metadata": {},
   "outputs": [
    {
     "name": "stdout",
     "output_type": "stream",
     "text": [
      "12\n"
     ]
    },
    {
     "data": {
      "text/plain": [
       "matrix([[0., 0., 0., 0., 0., 0., 0., 0., 0., 0., 0., 0.],\n",
       "        [0., 0., 0., 0., 0., 1., 1., 0., 0., 0., 0., 0.],\n",
       "        [0., 0., 0., 0., 0., 0., 0., 0., 0., 0., 0., 0.],\n",
       "        [0., 0., 0., 0., 0., 0., 0., 0., 0., 0., 0., 0.],\n",
       "        [0., 0., 0., 0., 0., 0., 0., 0., 0., 0., 0., 0.],\n",
       "        [0., 0., 0., 0., 0., 0., 0., 0., 0., 0., 1., 0.],\n",
       "        [0., 0., 0., 0., 1., 0., 0., 0., 0., 0., 0., 0.],\n",
       "        [0., 0., 0., 0., 0., 0., 0., 0., 0., 0., 0., 0.],\n",
       "        [0., 0., 0., 0., 0., 0., 0., 0., 0., 0., 0., 0.],\n",
       "        [0., 0., 0., 0., 0., 0., 0., 0., 0., 0., 0., 0.],\n",
       "        [0., 0., 0., 0., 0., 0., 0., 0., 0., 0., 0., 0.],\n",
       "        [1., 0., 1., 1., 0., 0., 0., 1., 1., 1., 0., 0.]])"
      ]
     },
     "execution_count": 12,
     "metadata": {},
     "output_type": "execute_result"
    }
   ],
   "source": [
    "print(len(vertex))\n",
    "graph"
   ]
  },
  {
   "cell_type": "code",
   "execution_count": null,
   "metadata": {},
   "outputs": [],
   "source": [
    "#根据A矩阵构造转移矩阵P\n",
    "for i in range(len(vertex)):\n",
    "    #每列之和\n",
    "    num = sum(graph[:, i])\n",
    "    #该列每个元素除以和，得到归一化，和为1\n",
    "    for j in range(len(vertex)):\n",
    "        if num != 0:\n",
    "            graph[j, i] = graph[j, i] / num\n",
    "            \n",
    "graph"
   ]
  },
  {
   "cell_type": "code",
   "execution_count": 47,
   "metadata": {},
   "outputs": [
    {
     "data": {
      "text/plain": [
       "matrix([[1., 0., 0., ..., 0., 0., 0.],\n",
       "        [0., 1., 0., ..., 0., 0., 0.],\n",
       "        [0., 0., 1., ..., 0., 0., 0.],\n",
       "        ...,\n",
       "        [0., 0., 0., ..., 1., 0., 0.],\n",
       "        [0., 0., 0., ..., 0., 1., 0.],\n",
       "        [0., 0., 0., ..., 0., 0., 1.]])"
      ]
     },
     "execution_count": 47,
     "metadata": {},
     "output_type": "execute_result"
    }
   ],
   "source": [
    "#相似度矩阵S\n",
    "S = np.matrix(np.identity(len(vertex)))\n",
    "S"
   ]
  },
  {
   "cell_type": "code",
   "execution_count": 37,
   "metadata": {},
   "outputs": [],
   "source": [
    "#计算simrank\n",
    "def simrank(C = 0.8, K = 5):\n",
    "    global S\n",
    "    \n",
    "    #单位矩阵\n",
    "    I = np.matrix(np.identity(len(vertex)))\n",
    "    for i in range(K):\n",
    "        temp = C * graph.T * S * graph\n",
    "        S = temp + I - np.diag(np.diag(temp))"
   ]
  },
  {
   "cell_type": "code",
   "execution_count": 48,
   "metadata": {},
   "outputs": [
    {
     "name": "stdout",
     "output_type": "stream",
     "text": [
      "3.3072212000000007\n"
     ]
    },
    {
     "data": {
      "text/plain": [
       "matrix([[1. , 0. , 0. , ..., 0. , 0. , 0. ],\n",
       "        [0. , 1. , 0.8, ..., 0. , 0. , 0. ],\n",
       "        [0. , 0.8, 1. , ..., 0. , 0. , 0. ],\n",
       "        ...,\n",
       "        [0. , 0. , 0. , ..., 1. , 0. , 0.8],\n",
       "        [0. , 0. , 0. , ..., 0. , 1. , 0. ],\n",
       "        [0. , 0. , 0. , ..., 0.8, 0. , 1. ]])"
      ]
     },
     "execution_count": 48,
     "metadata": {},
     "output_type": "execute_result"
    }
   ],
   "source": [
    "start = time.process_time()\n",
    "simrank()\n",
    "end = time.process_time()\n",
    "print(end - start)\n",
    "S"
   ]
  },
  {
   "cell_type": "code",
   "execution_count": null,
   "metadata": {},
   "outputs": [],
   "source": []
  }
 ],
 "metadata": {
  "kernelspec": {
   "display_name": "Python 3",
   "language": "python",
   "name": "python3"
  },
  "language_info": {
   "codemirror_mode": {
    "name": "ipython",
    "version": 3
   },
   "file_extension": ".py",
   "mimetype": "text/x-python",
   "name": "python",
   "nbconvert_exporter": "python",
   "pygments_lexer": "ipython3",
   "version": "3.7.3"
  }
 },
 "nbformat": 4,
 "nbformat_minor": 2
}
